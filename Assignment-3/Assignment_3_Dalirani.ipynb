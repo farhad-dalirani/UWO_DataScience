{
  "cells": [
    {
      "cell_type": "markdown",
      "metadata": {
        "id": "9aKr4SC0U-kn"
      },
      "source": [
        "# Assignment 3: Classification with Logistic Regression\n",
        "\n",
        "# Total: /100\n",
        "\n",
        "## Instructions\n",
        "\n",
        "* Complete the assignment\n",
        "\n",
        "* Once the notebook is complete, restart your kernel and rerun your cells\n",
        "\n",
        "* Submit this notebook to owl by the deadline\n",
        "\n",
        "* You may use any python library functions you wish to complete the assignment.\n",
        "\n",
        "## The Dataset\n",
        "\n",
        "The goal of our classifier is to predict, using a logistic regression, if a patient may take a certain drug.\n",
        "\n",
        "The dataset contains both numerical and categorical input variables, while the response variable ('Drug') has multiple levels. To simplify our analysis here, we focus on predicting if a patient may take \"Drug-Y\"."
      ]
    },
    {
      "cell_type": "code",
      "execution_count": 1,
      "metadata": {
        "id": "oYk5_SCPU-kw"
      },
      "outputs": [],
      "source": [
        "# You may need these\n",
        "import pandas as pd\n",
        "import numpy as np\n",
        "from sklearn.model_selection import train_test_split\n",
        "from sklearn.linear_model import LogisticRegression, SGDClassifier\n",
        "from sklearn.metrics import confusion_matrix, roc_curve, precision_recall_curve, auc, classification_report\n",
        "from sklearn.preprocessing import StandardScaler\n",
        "from sklearn.pipeline import make_pipeline\n",
        "import matplotlib.pyplot as plt\n",
        "seed=0\n",
        "%matplotlib inline"
      ]
    },
    {
      "cell_type": "markdown",
      "metadata": {
        "id": "axyFmaF8U-kz"
      },
      "source": [
        "## Question 1: /18 pts"
      ]
    },
    {
      "cell_type": "markdown",
      "metadata": {
        "id": "Gm0M4J0WU-k3"
      },
      "source": [
        "1. Read in the `drug.csv` dataset and display the first 5 rows.\n",
        "2. Print out all columns in the dataset and list categorical variables. Use the build-in function `get_dummies()` to convert all categorical variables (**exclude Drug variable**) to dummy variables. You may read the official explanations for more information on `get_dummies()` [here](https://pandas.pydata.org/docs/reference/api/pandas.get_dummies.html). What's the size of the dataframe after transforming it?\n",
        "3. Map the target values from yes/no to 1/0. What is the baseline accuracy for this classification problem? Round into 1 decimal place (for example, 50.1% or 0.501)."
      ]
    },
    {
      "cell_type": "markdown",
      "metadata": {
        "id": "2cNADOoXU-k6"
      },
      "source": [
        "1.1 Read the dataset and display the first 8 rows, and print out all columns in the dataset and **list** all categorical variables in the answer part."
      ]
    },
    {
      "cell_type": "code",
      "execution_count": 2,
      "metadata": {
        "id": "wAV0h1zoU-k8"
      },
      "outputs": [
        {
          "name": "stdout",
          "output_type": "stream",
          "text": [
            "> First 8 rows:\n",
            "   Age  Sex      BP Cholesterol  Na_to_K   Drug\n",
            "0   23    F    HIGH        HIGH   25.355  DrugY\n",
            "1   47    M     LOW        HIGH   13.093  DrugY\n",
            "2   47    M     LOW        HIGH   10.114  DrugY\n",
            "3   28    F  NORMAL        HIGH    7.798  drugX\n",
            "4   61    F     LOW        HIGH   18.043  DrugY\n",
            "5   22    F  NORMAL        HIGH    8.607  drugX\n",
            "6   49    F  NORMAL        HIGH   16.275  DrugY\n",
            "7   41  NaN     LOW        HIGH   11.037  drugC\n",
            "\n",
            "> Name of Columns:\n",
            "['Age' 'Sex' 'BP' 'Cholesterol' 'Na_to_K' 'Drug']\n"
          ]
        }
      ],
      "source": [
        "# Question 1.1 code here\n",
        "\n",
        "# read dataset\n",
        "pd_dataset = pd.read_csv('drug.csv')\n",
        "\n",
        "print('> First 8 rows:')\n",
        "print(pd_dataset.head(8))\n",
        "\n",
        "# name of columns\n",
        "print('\\n> Name of Columns:')\n",
        "print(pd_dataset.columns.values)\n",
        "\n",
        "#5 pts"
      ]
    },
    {
      "attachments": {},
      "cell_type": "markdown",
      "metadata": {
        "id": "yL9tqfndpRbI"
      },
      "source": [
        "**YOUR ANSWER HERE:** [1pt] \n",
        "\n",
        "Categorical variables: Sex, BP, Cholesterol, Drug (Drug is our classification label)."
      ]
    },
    {
      "cell_type": "markdown",
      "metadata": {
        "id": "S2W98Z97mfxI"
      },
      "source": [
        "1.2 Check that is any there missing value in each column of the dataset.  "
      ]
    },
    {
      "cell_type": "code",
      "execution_count": 3,
      "metadata": {
        "id": "GLp-EpaFnIYm"
      },
      "outputs": [
        {
          "name": "stdout",
          "output_type": "stream",
          "text": [
            "Number of missing value for each column:\n",
            "Age            0\n",
            "Sex            3\n",
            "BP             0\n",
            "Cholesterol    0\n",
            "Na_to_K        0\n",
            "Drug           0\n",
            "dtype: int64\n"
          ]
        }
      ],
      "source": [
        "# Question 1.2 code here\n",
        "\n",
        "# count number of none in each column\n",
        "print('Number of missing value for each column:')\n",
        "\n",
        "print(pd_dataset.isnull().sum(axis='index'))\n",
        "#2 pts"
      ]
    },
    {
      "cell_type": "markdown",
      "metadata": {
        "id": "YTIk_tnonYFR"
      },
      "source": [
        "1.3 Replace all the missing values in **Sex** to be 'M'."
      ]
    },
    {
      "cell_type": "code",
      "execution_count": 4,
      "metadata": {
        "id": "J6s1do3KoOmU"
      },
      "outputs": [],
      "source": [
        "# Question 1.3 code here\n",
        "\n",
        "# fill none item in sex column with M  \n",
        "pd_dataset['Sex'].fillna(value='M', inplace=True)\n",
        "#2 pts"
      ]
    },
    {
      "cell_type": "markdown",
      "metadata": {
        "id": "3UXEH2aKU-k-"
      },
      "source": [
        "1.4 Use the build-in function `get_dummies()` to convert all categorical variables (**excluding `Drug` variable**) to dummy variables. What's the size of the dataframe after transforming?"
      ]
    },
    {
      "cell_type": "code",
      "execution_count": 5,
      "metadata": {
        "id": "J-dsj9mrU-lA",
        "scrolled": true
      },
      "outputs": [
        {
          "name": "stdout",
          "output_type": "stream",
          "text": [
            "   Age  Na_to_K   Drug  Sex_F  Sex_M  BP_HIGH  BP_LOW  BP_NORMAL  \\\n",
            "0   23   25.355  DrugY      1      0        1       0          0   \n",
            "1   47   13.093  DrugY      0      1        0       1          0   \n",
            "2   47   10.114  DrugY      0      1        0       1          0   \n",
            "3   28    7.798  drugX      1      0        0       0          1   \n",
            "4   61   18.043  DrugY      1      0        0       1          0   \n",
            "\n",
            "   Cholesterol_HIGH  Cholesterol_NORMAL  \n",
            "0                 1                   0  \n",
            "1                 1                   0  \n",
            "2                 1                   0  \n",
            "3                 1                   0  \n",
            "4                 1                   0  \n",
            "\n",
            "> Name of columns:\n",
            "Index(['Age', 'Na_to_K', 'Drug', 'Sex_F', 'Sex_M', 'BP_HIGH', 'BP_LOW',\n",
            "       'BP_NORMAL', 'Cholesterol_HIGH', 'Cholesterol_NORMAL'],\n",
            "      dtype='object')\n",
            "\n",
            "> Number of columns:\n",
            "10\n"
          ]
        }
      ],
      "source": [
        "# Question 1.4 code here\n",
        "\n",
        "# convert categorical columns\n",
        "pd_dataset = pd.get_dummies(data=pd_dataset, columns=['Sex', 'BP', 'Cholesterol'])\n",
        "\n",
        "print(pd_dataset.head())\n",
        "\n",
        "print('\\n> Name of columns:')\n",
        "print(pd_dataset.columns)\n",
        "\n",
        "print('\\n> Number of columns:')\n",
        "print(len(pd_dataset.columns))\n",
        "\n",
        "\n",
        "#2 pts"
      ]
    },
    {
      "attachments": {},
      "cell_type": "markdown",
      "metadata": {
        "id": "krlMrqnIU-lK"
      },
      "source": [
        "**YOUR ANSWER HERE:** [1pt]\n",
        "\n",
        "New column names are: 'Age', 'Na_to_K', 'Drug', 'Sex_F', 'Sex_M', 'BP_HIGH', 'BP_LOW', 'BP_NORMAL', 'Cholesterol_HIGH', 'Cholesterol_NORMAL'\n",
        "\n",
        "Number of new columns: 10"
      ]
    },
    {
      "cell_type": "markdown",
      "metadata": {
        "id": "DbsurWVJq7IY"
      },
      "source": [
        "1.5 Transform all the labels that are 'DrugY' in **`Drug`** to be value 1, otherwise, to be 0. Then transform the type of **`Drug`** to be 'int'.\n"
      ]
    },
    {
      "cell_type": "code",
      "execution_count": 6,
      "metadata": {
        "id": "XeNDEYoxrkZr"
      },
      "outputs": [
        {
          "name": "stderr",
          "output_type": "stream",
          "text": [
            "/tmp/ipykernel_4511/2614037025.py:4: SettingWithCopyWarning: \n",
            "A value is trying to be set on a copy of a slice from a DataFrame\n",
            "\n",
            "See the caveats in the documentation: https://pandas.pydata.org/pandas-docs/stable/user_guide/indexing.html#returning-a-view-versus-a-copy\n",
            "  pd_dataset['Drug'][pd_dataset['Drug'] != 'DrugY'] = 0\n",
            "/tmp/ipykernel_4511/2614037025.py:5: SettingWithCopyWarning: \n",
            "A value is trying to be set on a copy of a slice from a DataFrame\n",
            "\n",
            "See the caveats in the documentation: https://pandas.pydata.org/pandas-docs/stable/user_guide/indexing.html#returning-a-view-versus-a-copy\n",
            "  pd_dataset['Drug'][pd_dataset['Drug'] == 'DrugY'] = 1\n"
          ]
        }
      ],
      "source": [
        "# Question 1.5 code here\n",
        "\n",
        "# convert DrugY to 1 and others to 0.\n",
        "pd_dataset['Drug'][pd_dataset['Drug'] != 'DrugY'] = 0\n",
        "pd_dataset['Drug'][pd_dataset['Drug'] == 'DrugY'] = 1\n",
        "\n",
        "# convert Drug column to int\n",
        "pd_dataset['Drug'] = pd_dataset['Drug'].astype(int)\n",
        "\n",
        "\n",
        "#2 pts"
      ]
    },
    {
      "cell_type": "markdown",
      "metadata": {
        "id": "0LORXe5nU-lL"
      },
      "source": [
        "1.6. What is the baseline accuracy for this classification problem? Round into 1 decimal place (for example, 0.2)."
      ]
    },
    {
      "cell_type": "code",
      "execution_count": 7,
      "metadata": {
        "id": "1tDl3SaGU-lL"
      },
      "outputs": [
        {
          "name": "stdout",
          "output_type": "stream",
          "text": [
            "Baseline Accuracy: 0.5\n"
          ]
        }
      ],
      "source": [
        "# Your code here\n",
        "max_label_count = pd_dataset['Drug'][pd_dataset['Drug'] == 1].count()\n",
        "min_label_count = pd_dataset['Drug'][pd_dataset['Drug'] == 0].count()\n",
        "\n",
        "base_line_acc = max_label_count/(min_label_count + max_label_count)\n",
        "\n",
        "print(\"Baseline Accuracy: {}\".format(base_line_acc.round(1)))\n",
        "#2 pts"
      ]
    },
    {
      "attachments": {},
      "cell_type": "markdown",
      "metadata": {
        "id": "GpiZmxAtU-lQ"
      },
      "source": [
        "**YOUR ANSWER HERE:** [1pt] \n",
        "\n",
        "Baseline Accuracy: 0.5"
      ]
    },
    {
      "cell_type": "markdown",
      "metadata": {
        "id": "svT8YoBjU-lR"
      },
      "source": [
        "## Question 2: /7 pts\n",
        "\n",
        "Split the data into train and test for the outcome/response and the predictor variables. Hold out 25% of observations as the test set.  Pass `random_state=11` to `train_test_split` to ensure you get the same train and tests sets as the solution. Your dependent variable in the the dataset is named as `Drug`. How many patients who take \"DrugY\" in the train dataset and test dataset, respectively?"
      ]
    },
    {
      "cell_type": "code",
      "execution_count": 8,
      "metadata": {
        "id": "ZabWhfKqU-lS"
      },
      "outputs": [
        {
          "name": "stdout",
          "output_type": "stream",
          "text": [
            "DrugY in train set: 76\n",
            "DrugY in test set:  26\n"
          ]
        }
      ],
      "source": [
        "# Question 2 code here.\n",
        "\n",
        "# Don't use the \"Drug\" as a feature\n",
        "\n",
        "# separate features and class\n",
        "X_all = pd_dataset.drop('Drug', axis='columns')\n",
        "y_all = pd_dataset['Drug']\n",
        "\n",
        "# split dataset\n",
        "X_train, X_test, y_train, y_test = train_test_split(X_all, y_all.values, test_size=0.25, random_state=11)\n",
        "\n",
        "print('DrugY in train set: {}'.format((y_train == 1).sum()))\n",
        "print('DrugY in test set:  {}'.format((y_test == 1).sum()))\n",
        "\n",
        "#6 pts correct code"
      ]
    },
    {
      "attachments": {},
      "cell_type": "markdown",
      "metadata": {
        "id": "04g5eqFb4UHe"
      },
      "source": [
        "**YOUR ANSWER HERE:** [1pt] \n",
        "\n",
        "DrugY in train set: 76\n",
        "\n",
        "DrugY in test set:  26"
      ]
    },
    {
      "cell_type": "markdown",
      "metadata": {
        "id": "o-NwTJR2U-lU"
      },
      "source": [
        "## Question 3: /20 pts"
      ]
    },
    {
      "cell_type": "markdown",
      "metadata": {
        "id": "OrQkrgnKU-lV"
      },
      "source": [
        "3.1 Create a instance of sklearn's `LogisticRegression` object for **unpenalized** logistic regression.\n",
        "Using this object, **run a logisitic regression analysis** of `Drug` (y-variable) against `Age` and `Na_to_K` (x-variables) using your training data. Report the parameters (variables and intercept) of your model as indicated with the `print` function."
      ]
    },
    {
      "cell_type": "code",
      "execution_count": 9,
      "metadata": {
        "id": "upgKwmOMU-lV"
      },
      "outputs": [
        {
          "name": "stdout",
          "output_type": "stream",
          "text": [
            "Intercept: [-8.72001306], Coefficients: [[-0.01090483  0.65752731]]\n"
          ]
        },
        {
          "name": "stderr",
          "output_type": "stream",
          "text": [
            "/home/farhad-bat/.local/lib/python3.8/site-packages/sklearn/linear_model/_logistic.py:1173: FutureWarning: `penalty='none'`has been deprecated in 1.2 and will be removed in 1.4. To keep the past behaviour, set `penalty=None`.\n",
            "  warnings.warn(\n"
          ]
        }
      ],
      "source": [
        "# Question 3 code here\n",
        "\n",
        "# create logistic regression instance\n",
        "classifier_lreg = LogisticRegression(penalty='none')\n",
        "\n",
        "# train with training set\n",
        "classifier_lreg.fit(X_train[['Age', 'Na_to_K']], y_train)\n",
        "\n",
        "# print parameters of model\n",
        "print('Intercept: {}, Coefficients: {}'.format(classifier_lreg.intercept_, classifier_lreg.coef_))\n",
        "\n",
        "#10 pts "
      ]
    },
    {
      "cell_type": "markdown",
      "metadata": {
        "id": "kheT1mJBU-lY"
      },
      "source": [
        "3.2 Compute 4 label-based criteria, namely, 'Accuracy', 'Precision', 'Sensitivity' and 'Specificity' for your two variables only classifier **using the test data** (Round into 4 decimal place). Use a threshold of 0.5. Answer the questions in this text box below."
      ]
    },
    {
      "cell_type": "code",
      "execution_count": 10,
      "metadata": {
        "id": "YeCznyblU-la"
      },
      "outputs": [],
      "source": [
        "## Put code here to compute criteria:\n",
        "\n",
        "def compute_criterias(y_true, y_pred, positive_class):\n",
        "\n",
        "    if len(y_true) != len(y_pred):\n",
        "        raise ValueError('Size of predicted y and ground truth y is not the same.')\n",
        "\n",
        "    # calculate true positve\n",
        "    tp = sum(np.logical_and(y_true == positive_class, y_pred == positive_class))\n",
        "\n",
        "    # calculate true nagative\n",
        "    tn = sum(np.logical_and(y_true != positive_class, y_pred != positive_class))\n",
        "\n",
        "    # calculate false positive\n",
        "    fp = sum(np.logical_and(y_true != positive_class, y_pred == positive_class))\n",
        "\n",
        "    # calculate false nagative\n",
        "    fn = sum(np.logical_and(y_true == positive_class, y_pred != positive_class))\n",
        "\n",
        "    # Accuracy\n",
        "    accuracy = (tp + tn) / (tp + tn + fp + fn)\n",
        "    \n",
        "    # Precision\n",
        "    precision = tp / (tp + fp)\n",
        "    \n",
        "    # Recall\n",
        "    sensitivity = tp / (tp + fn)    \n",
        "    \n",
        "    # Specificity\n",
        "    specificity = tn / (fp + tn)\n",
        "\n",
        "    print('TP: {}, TN: {}, FP:{}, FN: {}'.format(tp, tn, fp, fn))\n",
        "\n",
        "    return {'accuracy': accuracy, 'precision': precision, 'sensitivity': sensitivity, 'specificity': specificity}\n",
        "\n",
        "#5 pts"
      ]
    },
    {
      "cell_type": "code",
      "execution_count": 11,
      "metadata": {
        "id": "RVHdh8JPU-lb"
      },
      "outputs": [
        {
          "name": "stdout",
          "output_type": "stream",
          "text": [
            "Classes name in classifier: [0 1]\n",
            "TP: 25, TN: 22, FP:2, FN: 1\n",
            "\n",
            "accuracy: 0.94\n",
            "precision: 0.9259\n",
            "sensitivity: 0.9615\n",
            "specificity: 0.9167\n"
          ]
        }
      ],
      "source": [
        "## Put the code you need to answer the following questions.\n",
        "\n",
        "print('Classes name in classifier: {}'.format(classifier_lreg.classes_))\n",
        "positive_class = 1\n",
        "\n",
        "# predict label for data in test set\n",
        "y_test_pred_prob = classifier_lreg.predict_proba(X=X_test[['Age', 'Na_to_K']])\n",
        "y_test_pred = np.where(y_test_pred_prob[:, positive_class] > 0.5, 1, 0).astype(int)\n",
        "\n",
        "criterias = compute_criterias(y_true=y_test, y_pred=y_test_pred, positive_class=positive_class)\n",
        "\n",
        "print()\n",
        "for key in criterias:\n",
        "    print(\"{}: {}\".format(key, np.round(criterias[key], 4)))\n",
        "\n",
        "\n",
        "#2 pts"
      ]
    },
    {
      "attachments": {},
      "cell_type": "markdown",
      "metadata": {
        "id": "ZUGuT8L1U-lb"
      },
      "source": [
        "* How many of the test instances are labeled positive by your classifier?\n",
        "\n",
        "**TP + FP = 25 + 2 = 27**\n",
        "\n",
        "* Does this classifier reach the baseline accuracy?\n",
        "\n",
        "**It is better thatn baseline accuracy. Baseline accuracy is 0.5 and the classifier accuracy is 0.94:** \n",
        "\n",
        "* Is this classifier useful for classifying drug-Y? Explain in one or two sentences using the performance matrix results.\n",
        "\n",
        "**Yes, it is useful because baseline accuracy is 0.5 and accuracy for the classifier is 0.94. It means the model has learned something. Also, all metrics including accuracy, precision, sensitivity and specificity are high and more that 0.91, which show is is a good classifier. For 50 test data, FP is 2 and FN is 1, which shows the good performance.**"
      ]
    },
    {
      "cell_type": "markdown",
      "metadata": {
        "id": "9mq1cndaU-lc"
      },
      "source": [
        "## Question 4: /8 pts\n",
        "Now with default penalty method, fit two logistic regression models using tuning parameter $C=0.1$ and $C=1$ to the training data and include all the variables in the data frame (except for `Drug`) in the cell below. You will want to make new objects like you did for the simpler model. Print the parameters (variables and intercept) you obtain, respectively."
      ]
    },
    {
      "cell_type": "code",
      "execution_count": 12,
      "metadata": {
        "id": "BiH4XfJHU-le"
      },
      "outputs": [
        {
          "name": "stdout",
          "output_type": "stream",
          "text": [
            "\n",
            ">  C=0.1\n",
            "Intercept: [-7.95642709],\n",
            "Coefficients: [[-0.0130806   0.60277064 -0.11304191  0.11306467 -0.24194974  0.36553947\n",
            "  -0.12356698  0.23756636 -0.23754361]]\n",
            "\n",
            ">  C=1.0\n",
            "Intercept: [-9.92561829],\n",
            "Coefficients: [[-0.0251735   0.77566215 -0.26073173  0.2606756  -0.72103715  1.18493054\n",
            "  -0.46394952  0.66529228 -0.66534841]]\n"
          ]
        }
      ],
      "source": [
        "# Code for Question 4\n",
        "\n",
        "# logistic regression with l2 and c 0.1\n",
        "classifier_lreg_all_c_0_1 = LogisticRegression(penalty='l2', C=0.1)\n",
        "# train with training data\n",
        "classifier_lreg_all_c_0_1.fit(X=X_train, y=y_train)\n",
        "# print parameters of model\n",
        "print('\\n>  C=0.1')\n",
        "print('Intercept: {},\\nCoefficients: {}'.format(classifier_lreg_all_c_0_1.intercept_, classifier_lreg_all_c_0_1.coef_))\n",
        "\n",
        "# logistic regression with l2 and c 1.0\n",
        "classifier_lreg_all_c_1 = LogisticRegression(penalty='l2', C=1.0)\n",
        "# train with training data\n",
        "classifier_lreg_all_c_1.fit(X=X_train, y=y_train)\n",
        "# print parameters of model\n",
        "print('\\n>  C=1.0')\n",
        "print('Intercept: {},\\nCoefficients: {}'.format(classifier_lreg_all_c_1.intercept_, classifier_lreg_all_c_1.coef_))\n",
        "\n",
        "#7 pts"
      ]
    },
    {
      "attachments": {},
      "cell_type": "markdown",
      "metadata": {
        "id": "3Jc2UNoYnGhD"
      },
      "source": [
        "* Describe the differences between the fitted model parameters obtained from the two models here.\n",
        "\n",
        "**YOUR ANSWER: Smaller C means stronger regularization. It means coefficients for the logistic regression with lower C generally are smaller that logistic regression with higher C. The result shows the same thing. Coefficients for C=0.1 are smaller that coefficients for C=1.0.**"
      ]
    },
    {
      "attachments": {},
      "cell_type": "markdown",
      "metadata": {
        "id": "qMUsdjPfU-lh"
      },
      "source": [
        "## Question 5: /15 pts\n",
        "\n",
        "In the cell below, compute the 4 label-based criteria we mentioned in Question 3.2 for the two new classifiers using the test data. (You don't have to copy the function down into this cell; just call it again here.) Use a threshold of 0.5. "
      ]
    },
    {
      "cell_type": "code",
      "execution_count": 13,
      "metadata": {
        "id": "BWsf59jcU-li"
      },
      "outputs": [
        {
          "name": "stdout",
          "output_type": "stream",
          "text": [
            "====================\n",
            "For Logisic Regression with C=0.1:\n",
            "TP: 25, TN: 24, FP:0, FN: 1\n",
            "\n",
            "accuracy: 0.98\n",
            "precision: 1.0\n",
            "sensitivity: 0.9615\n",
            "specificity: 1.0\n",
            "====================\n",
            "For Logisic Regression with C=1.0:\n",
            "TP: 24, TN: 24, FP:0, FN: 2\n",
            "\n",
            "accuracy: 0.96\n",
            "precision: 1.0\n",
            "sensitivity: 0.9231\n",
            "specificity: 1.0\n",
            "====================\n"
          ]
        }
      ],
      "source": [
        "# Code for  Code for answering questions in the below cell\n",
        "\n",
        "positive_class = 1\n",
        "\n",
        "print('=' * 20)\n",
        "print('For Logisic Regression with C=0.1:')\n",
        "# criterias for logistic regression with C=0.1\n",
        "# predict probabilities\n",
        "y_test_pred_prob = classifier_lreg_all_c_0_1.predict_proba(X=X_test)\n",
        "# predict labels by thresholding\n",
        "y_test_pred = np.where(y_test_pred_prob[:, positive_class] > 0.5, 1, 0).astype(int)\n",
        "# computer criterias\n",
        "criterias = compute_criterias(y_true=y_test, y_pred=y_test_pred, positive_class=positive_class)\n",
        "print()\n",
        "for key in criterias:\n",
        "    print(\"{}: {}\".format(key, np.round(criterias[key], 4)))\n",
        "\n",
        "print('=' * 20)\n",
        "print('For Logisic Regression with C=1.0:')\n",
        "# criterias for logistic regression with C=1.0\n",
        "# predict probabilities\n",
        "y_test_pred_prob = classifier_lreg_all_c_1.predict_proba(X=X_test)\n",
        "# predict labels by thresholding\n",
        "y_test_pred = np.where(y_test_pred_prob[:, positive_class] > 0.5, 1, 0).astype(int)\n",
        "# computer criterias\n",
        "criterias = compute_criterias(y_true=y_test, y_pred=y_test_pred, positive_class=positive_class)\n",
        "print()\n",
        "for key in criterias:\n",
        "    print(\"{}: {}\".format(key, np.round(criterias[key], 4)))\n",
        "print('=' * 20)\n",
        "#9 pts"
      ]
    },
    {
      "attachments": {},
      "cell_type": "markdown",
      "metadata": {
        "id": "kXXGvWDYU-lj"
      },
      "source": [
        "* How many of the test instances are respectively labeled positive by the two classifiers?\n",
        "\n",
        "**For Logistic Regression with C=0.1: TP+FP = 25 + 0 = 25. \n",
        "For Logistic Regression with C=1.0: TP+FP = 24 + 0 = 24.**\n",
        "\n",
        "* Among the classifiers in Questions 3 and 4, which one is the **best classifier** for classifying Drug? Explain the possible reason in one or two sentences.\n",
        "\n",
        "**Among the three logistic regression (No penalty, C=0.1, C=1.0), the best one is Logistic regression with C=0.1 because it has highest values in accuracy, precision, sensitivity and specificity.**"
      ]
    },
    {
      "cell_type": "markdown",
      "metadata": {
        "id": "BtWayoFDU-lk"
      },
      "source": [
        "## Question 6: /14 pts\n",
        "In the cell below, predict the class coding your own sigmoid function (do NOT use  the predict function from sklear). Compare the first 5 rows using the three models constructed in question 4 and question 5."
      ]
    },
    {
      "cell_type": "code",
      "execution_count": 14,
      "metadata": {
        "id": "5zYNJn57U-ll"
      },
      "outputs": [
        {
          "name": "stdout",
          "output_type": "stream",
          "text": [
            ">    Probabilities for calss 1 on test set for the three models:\n",
            "   Model no penalty  Model C=0.1  Model C=1\n",
            "0          0.313454     0.235543   0.099167\n",
            "1          0.999990     0.999945   0.999990\n",
            "2          0.959078     0.943616   0.978881\n",
            "3          0.047094     0.055898   0.020973\n",
            "4          0.999981     0.999959   0.999998\n"
          ]
        }
      ],
      "source": [
        "# Your code here\n",
        "\n",
        "def sigmoid_fun(x):\n",
        "    sig_value = 1/(1 + np.exp(-1 * x))\n",
        "    return sig_value\n",
        "\n",
        "y_test_prob_no_penalty = sigmoid_fun(x=np.dot(X_test[['Age', 'Na_to_K']], classifier_lreg.coef_.T) + classifier_lreg.intercept_).T.tolist()[0]\n",
        "y_test_prob_c_0_1 = sigmoid_fun(x=np.dot(X_test, classifier_lreg_all_c_0_1.coef_.T) + classifier_lreg_all_c_0_1.intercept_).T.tolist()[0]\n",
        "y_test_prob_c_1_0 = sigmoid_fun(x=np.dot(X_test, classifier_lreg_all_c_1.coef_.T) + classifier_lreg_all_c_1.intercept_).T.tolist()[0]\n",
        "\n",
        "print('>    Probabilities for calss 1 on test set for the three models:')\n",
        "pd_result_prob_models = pd.DataFrame({'Model no penalty': y_test_prob_no_penalty, 'Model C=0.1': y_test_prob_c_0_1, 'Model C=1': y_test_prob_c_1_0})\n",
        "print(pd_result_prob_models.head(5))\n",
        "#8 pts\n"
      ]
    },
    {
      "attachments": {},
      "cell_type": "markdown",
      "metadata": {
        "id": "0HUOZPnzU-ln"
      },
      "source": [
        "* Is the probability given by the sigmoid function the probability of a case being negative?\n",
        "\n",
        "**No, the output of a sigmoid function can not be negative. It always positive. Its board in (0, 1).** \n",
        "\n",
        "* By just looking over the first 5 cases, how does the probabilities obtained from the two classifiers in Question 4 changes? Does the change of probability actually change the classification results for the first 5 cases?\n",
        "\n",
        "**1) Probabilities in all the three models are verry similar. In the model C=0.1 for negative class it has higher probability than C=1. Also, in the model C=1.0 for positive class in has lower probability than C=1. 2) Since the used threshold in the three models was 0.5, the predicted label for the first 5 rows do not change because none of the five data cross 0.5 threshold.** "
      ]
    },
    {
      "attachments": {},
      "cell_type": "markdown",
      "metadata": {
        "id": "08R44Tq-U-lo"
      },
      "source": [
        "# Question 7: /7 pts\n",
        "\n",
        "Plot ROC curves for all of your classifiers using the cells below, then answer the following questions, computing whatever quantities you need to answer them."
      ]
    },
    {
      "cell_type": "code",
      "execution_count": 15,
      "metadata": {
        "id": "IGol7oXQ51Eo"
      },
      "outputs": [
        {
          "data": {
            "text/plain": [
              "Text(0.5, 1.0, 'Model C=1\\nAUC=0.9903846153846154')"
            ]
          },
          "execution_count": 15,
          "metadata": {},
          "output_type": "execute_result"
        },
        {
          "data": {
            "image/png": "[encoded data removed]",
            "text/plain": [
              "<Figure size 640x480 with 1 Axes>"
            ]
          },
          "metadata": {},
          "output_type": "display_data"
        },
        {
          "data": {
            "image/png": "[encoded data removed]",
            "text/plain": [
              "<Figure size 640x480 with 1 Axes>"
            ]
          },
          "metadata": {},
          "output_type": "display_data"
        },
        {
          "data": {
            "image/png": "[encoded data removed]",
            "text/plain": [
              "<Figure size 640x480 with 1 Axes>"
            ]
          },
          "metadata": {},
          "output_type": "display_data"
        }
      ],
      "source": [
        "# Your code here\n",
        "\n",
        "# no penalty model\n",
        "fpr, tpr, _ = roc_curve(y_true=y_test, y_score=pd_result_prob_models['Model no penalty'], pos_label=classifier_lreg.classes_[1])\n",
        "auc_no_penalty = auc(fpr, tpr)\n",
        "plt.figure()\n",
        "plt.plot(fpr, tpr)\n",
        "plt.xlabel('FPR')\n",
        "plt.ylabel('TPR')\n",
        "plt.title('Model with No Penalty\\nAUC={}'.format(auc_no_penalty))\n",
        "\n",
        "# c=0.1 model\n",
        "fpr, tpr, _ = roc_curve(y_true=y_test, y_score=pd_result_prob_models['Model C=0.1'], pos_label=classifier_lreg_all_c_0_1.classes_[1])\n",
        "auc_c_0_1 = auc(fpr, tpr)\n",
        "plt.figure()\n",
        "plt.plot(fpr, tpr)\n",
        "plt.xlabel('FPR')\n",
        "plt.ylabel('TPR')\n",
        "plt.title('Model C=0.1\\nAUC={}'.format(auc_c_0_1))\n",
        "\n",
        "# c=1 model\n",
        "fpr, tpr, _ = roc_curve(y_true=y_test, y_score=pd_result_prob_models['Model C=1'], pos_label=classifier_lreg_all_c_1.classes_[1])\n",
        "auc_c_1 = auc(fpr, tpr)\n",
        "plt.figure()\n",
        "plt.plot(fpr, tpr)\n",
        "plt.xlabel('FPR')\n",
        "plt.ylabel('TPR')\n",
        "plt.title('Model C=1\\nAUC={}'.format(auc_c_1))\n",
        "\n",
        "\n",
        "#6 pts"
      ]
    },
    {
      "attachments": {},
      "cell_type": "markdown",
      "metadata": {
        "id": "XS6tI4eaU-lp"
      },
      "source": [
        "* Which classifier has a highest estimated probability of correctly distinguishing between a positive and a negative instance? How do you know?\n",
        "\n",
        "**AUC (Area Under Curve) for all the three models are calculated and reported in the above figures. The AUC for no penalty model is 0.97, for C=0.1 is 0.98 and for for C=1 is 0.99. Therefore, the classifier with C=1 has the highest estimated probability of correctly distinguishing between positive and negative.** \n"
      ]
    },
    {
      "attachments": {},
      "cell_type": "markdown",
      "metadata": {},
      "source": [
        "# Question 8: /11 pts\n",
        "\n",
        "Multiclass Logistic Regression\n",
        "\n",
        "In the classification lab, we trained a binary LR classifier using the _mnist_ dataset to discriminate entries which were equal to 5 from the rest. This time you have 10 classes i.e., 0, 1, 2, 3, 4, 5, 6, 7, 8, and 9. Use the same dataset and `SGDClassifier` to tain a multiclass logistic regression model with `l2` regularization. For training, include these arguments too: `max_iter=2000`, `tol=1e-3`, `random_state=seed`. For computation speed-up, some `sklearn` functions take the argument `n_jobs=N` to run in parallel. A good value for N can be the number of physical CPU cores that your machine possesses. Check the documentations of the functions to take advantage from this where applicable. For splitting the data use `test_size=0.5` and `random_state=seed`.\n",
        "\n",
        "Put your classifier and the `StandardScaler()` into a pipeline using `make_pipeline`. Therefore, your final model will be a pipeline that always standardizes the data before feeding it to the classifier. Use the `classification_report` to report the performance of your final model (*i.e.*, the pipeline) over the **test set**.\n",
        "\n"
      ]
    },
    {
      "cell_type": "code",
      "execution_count": 16,
      "metadata": {},
      "outputs": [
        {
          "name": "stderr",
          "output_type": "stream",
          "text": [
            "/home/farhad-bat/.local/lib/python3.8/site-packages/sklearn/datasets/_openml.py:968: FutureWarning: The default value of `parser` will change from `'liac-arff'` to `'auto'` in 1.4. You can set `parser='auto'` to silence this warning. Therefore, an `ImportError` will be raised from 1.4 if the dataset is dense and pandas is not installed. Note that the pandas parser may return different data types. See the Notes Section in fetch_openml's API doc for details.\n",
            "  warn(\n",
            "/home/farhad-bat/.local/lib/python3.8/site-packages/sklearn/linear_model/_stochastic_gradient.py:163: FutureWarning: The loss 'log' was deprecated in v1.1 and will be removed in version 1.3. Use `loss='log_loss'` which is equivalent.\n",
            "  warnings.warn(\n"
          ]
        },
        {
          "name": "stdout",
          "output_type": "stream",
          "text": [
            "Confusion Matrix:\n",
            "[[3324    0   12    8    8   32   35    7  107    2]\n",
            " [   0 3804   16    5    3   22    6    2   89    7]\n",
            " [  12   18 3090   47   59   10   43   25  166    5]\n",
            " [  14   13   90 3063    0  118   11   24  161   52]\n",
            " [   3    8   30    5 3104    3   23   13  108   89]\n",
            " [  21   12   23  100   42 2631   55   11  214   49]\n",
            " [  15   11   40    1   32   46 3176    6   62    0]\n",
            " [  12    7   37   17   37    7    0 3318   69  148]\n",
            " [  11   48   29   47    2   78   19    3 3115   40]\n",
            " [  15   15   20   45   81   25    0  100  169 3043]]\n",
            "==========\n",
            "\n",
            "Classification Report:\n",
            "              precision    recall  f1-score   support\n",
            "\n",
            "           0       0.97      0.94      0.95      3535\n",
            "           1       0.97      0.96      0.96      3954\n",
            "           2       0.91      0.89      0.90      3475\n",
            "           3       0.92      0.86      0.89      3546\n",
            "           4       0.92      0.92      0.92      3386\n",
            "           5       0.89      0.83      0.86      3158\n",
            "           6       0.94      0.94      0.94      3389\n",
            "           7       0.95      0.91      0.93      3652\n",
            "           8       0.73      0.92      0.81      3392\n",
            "           9       0.89      0.87      0.88      3513\n",
            "\n",
            "    accuracy                           0.90     35000\n",
            "   macro avg       0.91      0.90      0.90     35000\n",
            "weighted avg       0.91      0.90      0.91     35000\n",
            "\n"
          ]
        }
      ],
      "source": [
        "# code here\n",
        "\n",
        "# get dataset\n",
        "from sklearn.datasets import fetch_openml \n",
        "mnist = fetch_openml('mnist_784', version=1, as_frame=False)\n",
        "# print('MNIST {}'.format(mnist.keys()))\n",
        "X_all_mnist = mnist['data']\n",
        "y_all_mnist = mnist['target'] \n",
        "\n",
        "# split dataset\n",
        "X_mnist_train, X_mnist_test, y_mnist_train, y_mnist_test = train_test_split(X_all_mnist, y_all_mnist, test_size=0.5, random_state=seed)\n",
        "\n",
        "\n",
        "# create pipeline\n",
        "pipeline = make_pipeline(StandardScaler(), SGDClassifier(loss='log', penalty='l2', max_iter=2000, tol=1e-3, n_jobs=4, random_state=seed))\n",
        "\n",
        "# train pipeline\n",
        "pipeline.fit(X_mnist_train, y_mnist_train)\n",
        "\n",
        "# confusion matrix\n",
        "y_mnist_test_pred = pipeline.predict(X_mnist_test)\n",
        "conf_mat = confusion_matrix(y_true=y_mnist_test, y_pred=y_mnist_test_pred)\n",
        "print('Confusion Matrix:\\n{}'.format(conf_mat))\n",
        "print('=' * 10)\n",
        "\n",
        "print('\\nClassification Report:\\n{}'.format(classification_report(y_true=y_mnist_test, y_pred=y_mnist_test_pred)))\n",
        "\n",
        "#9 pts"
      ]
    },
    {
      "attachments": {},
      "cell_type": "markdown",
      "metadata": {},
      "source": [
        "Let's see how the model generalizes to new data.\n",
        "\n",
        "You can run the cell below to see how well your model can recognize a digit written by the mouse cursor. Set the `final_model` variable according to the name choses for your pipeline, run the cell, draw on the pop-up canvas, and once you close the canvas you will see the result.\n",
        "\n",
        "This code will not work on headless servers such as Colab. You need to install the `tk-tools` package and run it locally."
      ]
    },
    {
      "cell_type": "code",
      "execution_count": 17,
      "metadata": {},
      "outputs": [
        {
          "name": "stdout",
          "output_type": "stream",
          "text": [
            "Your input:\n"
          ]
        },
        {
          "data": {
            "image/png": "[encoded data removed]",
            "text/plain": [
              "<Figure size 640x480 with 1 Axes>"
            ]
          },
          "metadata": {},
          "output_type": "display_data"
        },
        {
          "name": "stdout",
          "output_type": "stream",
          "text": [
            "Input recognized as 5.\n"
          ]
        }
      ],
      "source": [
        "final_model =  pipeline # here use the name of your pipeline\n",
        "\n",
        "#!pip install tk-tools\n",
        "from tkinter import *\n",
        "import tkinter as tk\n",
        "from PIL import Image\n",
        "import io\n",
        "import matplotlib as mpl\n",
        "\n",
        "temp_file_name=\"TEMP_image_TEMP.jpg\"\n",
        "\n",
        "app = Tk()\n",
        "app.geometry(\"300x300\")\n",
        "\n",
        "canvas = tk.Canvas(app, bg='white')\n",
        "canvas.pack(anchor='nw', fill='both', expand=1)\n",
        "\n",
        "def get_x_and_y(event):\n",
        "    global lasx, lasy\n",
        "    lasx, lasy = event.x, event.y\n",
        "\n",
        "def draw_smth(event):\n",
        "    global lasx, lasy\n",
        "    canvas.create_line((lasx, lasy, event.x, event.y), fill='red', width=3.5)\n",
        "    lasx, lasy = event.x, event.y\n",
        "    ps = canvas.postscript(colormode = 'color')\n",
        "    img = Image.open(io.BytesIO(ps.encode('utf-8')))\n",
        "    img.save(temp_file_name)\n",
        "\n",
        "canvas.bind(\"<Button-1>\", get_x_and_y)\n",
        "canvas.bind(\"<B1-Motion>\", draw_smth)\n",
        "\n",
        "app.mainloop()\n",
        "\n",
        "img = Image.open(temp_file_name)\n",
        "#resize image to 28x28 pixels\n",
        "img = img.resize((28,28))\n",
        "#convert rgb to grayscale\n",
        "img = img.convert(\"L\")\n",
        "img = np.array(img)\n",
        "img = 255.0 - img\n",
        "print(\"Your input:\")\n",
        "plt.imshow(img, cmap = mpl.cm.binary); plt.axis(\"off\")\n",
        "plt.show()\n",
        "\n",
        "# reshaping to support our model input\n",
        "img = np.reshape(img, 28*28)\n",
        "#predicting the class\n",
        "print('Input recognized as ' + str(final_model.predict([img])[0])+'.')"
      ]
    },
    {
      "attachments": {},
      "cell_type": "markdown",
      "metadata": {},
      "source": [
        "* Despite showing great scores in training and testing stages, why your model does not generalize well to new data?"
      ]
    },
    {
      "attachments": {},
      "cell_type": "markdown",
      "metadata": {},
      "source": [
        "**Because the drawing and new data can be out of the distribution that the classifer saw during training. For example, numbers in the MNIST are centered.**\n"
      ]
    }
  ],
  "metadata": {
    "colab": {
      "provenance": []
    },
    "kernelspec": {
      "display_name": "Python 3",
      "language": "python",
      "name": "python3"
    },
    "language_info": {
      "codemirror_mode": {
        "name": "ipython",
        "version": 3
      },
      "file_extension": ".py",
      "mimetype": "text/x-python",
      "name": "python",
      "nbconvert_exporter": "python",
      "pygments_lexer": "ipython3",
      "version": "3.8.16"
    },
    "latex_envs": {
      "LaTeX_envs_menu_present": true,
      "autoclose": false,
      "autocomplete": true,
      "bibliofile": "biblio.bib",
      "cite_by": "apalike",
      "current_citInitial": 1,
      "eqLabelWithNumbers": true,
      "eqNumInitial": 1,
      "hotkeys": {
        "equation": "Ctrl-E",
        "itemize": "Ctrl-I"
      },
      "labels_anchors": false,
      "latex_user_defs": false,
      "report_style_numbering": false,
      "user_envs_cfg": false
    },
    "toc": {
      "base_numbering": 1,
      "nav_menu": {},
      "number_sections": true,
      "sideBar": true,
      "skip_h1_title": false,
      "title_cell": "Table of Contents",
      "title_sidebar": "Contents",
      "toc_cell": false,
      "toc_position": {},
      "toc_section_display": true,
      "toc_window_display": false
    },
    "varInspector": {
      "cols": {
        "lenName": 16,
        "lenType": 16,
        "lenVar": 40
      },
      "kernels_config": {
        "python": {
          "delete_cmd_postfix": "",
          "delete_cmd_prefix": "del ",
          "library": "var_list.py",
          "varRefreshCmd": "print(var_dic_list())"
        },
        "r": {
          "delete_cmd_postfix": ") ",
          "delete_cmd_prefix": "rm(",
          "library": "var_list.r",
          "varRefreshCmd": "cat(var_dic_list()) "
        }
      },
      "types_to_exclude": [
        "module",
        "function",
        "builtin_function_or_method",
        "instance",
        "_Feature"
      ],
      "window_display": false
    }
  },
  "nbformat": 4,
  "nbformat_minor": 0
}
