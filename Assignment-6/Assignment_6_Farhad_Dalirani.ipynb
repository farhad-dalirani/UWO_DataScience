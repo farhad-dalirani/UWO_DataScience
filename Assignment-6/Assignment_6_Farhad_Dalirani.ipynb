{
  "cells": [
    {
      "cell_type": "markdown",
      "metadata": {
        "id": "izqne0Z6IH__"
      },
      "source": [
        "# Assignment 6: Feature selection and regularization\n",
        "\n",
        "# Total: /100\n",
        "\n",
        "## Instructions\n",
        "\n",
        "* Complete the assignment\n",
        "\n",
        "* Once the notebook is complete, **restart** your kernel and **rerun** your cells\n",
        "\n",
        "* Submit this notebook to owl by the deadline\n",
        "\n",
        "* You may use any python library functions you wish to complete the assignment."
      ]
    },
    {
      "cell_type": "code",
      "execution_count": 1,
      "metadata": {
        "id": "GTwVRZnbIGrl"
      },
      "outputs": [],
      "source": [
        "# You may need these\n",
        "import pandas as pd\n",
        "import numpy as np\n",
        "import seaborn as sns\n",
        "import sklearn as sk\n",
        "import sklearn.linear_model as skl\n",
        "from sklearn import preprocessing\n",
        "from sklearn import metrics\n",
        "from sklearn.preprocessing import PolynomialFeatures\n",
        "from sklearn.preprocessing import StandardScaler \n",
        "from sklearn.model_selection import train_test_split, cross_val_score\n",
        "from sklearn.feature_selection import SelectFromModel\n",
        "from sklearn.feature_selection import SequentialFeatureSelector\n",
        "from sklearn.linear_model import LassoCV, Ridge, LinearRegression, lasso_path, ElasticNetCV\n",
        "from sklearn.metrics import mean_squared_error\n",
        "import matplotlib.pyplot as plt\n",
        "from IPython.display import display\n",
        "import copy\n",
        "\n",
        "seed = 2023\n",
        "np.random.seed(seed)"
      ]
    },
    {
      "attachments": {},
      "cell_type": "markdown",
      "metadata": {
        "id": "G4EmPdu-tV-2"
      },
      "source": [
        "## Question 1: /20 pts\n",
        "\n",
        "\n",
        "Customer Lifetime Value (CLV) is the total income a business can expect from a customer over the entire period of their relationship. It’s an important metric as it costs less to keep existing customers than it does to acquire new ones, so increasing the value of your existing customers is a great way to drive growth. We want to predict CLV for an auto insurance company.\n",
        "\n",
        "1. Read in the `Vehicle_Insurance.csv` dataset and display the last 5 rows.\n",
        "2. Conduct the required data preparation."
      ]
    },
    {
      "attachments": {},
      "cell_type": "markdown",
      "metadata": {
        "id": "8K4pylNyuK5z"
      },
      "source": [
        "### 1.1 Read the dataset and display the last 5 rows"
      ]
    },
    {
      "cell_type": "code",
      "execution_count": 2,
      "metadata": {
        "colab": {
          "base_uri": "https://localhost:8080/",
          "height": 270
        },
        "id": "hW5aHQQoKHtu",
        "outputId": "4b0ebcc3-2e86-49c0-c6de-ed77c2250b20"
      },
      "outputs": [
        {
          "name": "stdout",
          "output_type": "stream",
          "text": [
            "Shape of dataset: (8630, 11)\n",
            "First five rows:\n",
            "\n"
          ]
        },
        {
          "data": {
            "text/html": [
              "<div>\n",
              "<style scoped>\n",
              "    .dataframe tbody tr th:only-of-type {\n",
              "        vertical-align: middle;\n",
              "    }\n",
              "\n",
              "    .dataframe tbody tr th {\n",
              "        vertical-align: top;\n",
              "    }\n",
              "\n",
              "    .dataframe thead th {\n",
              "        text-align: right;\n",
              "    }\n",
              "</style>\n",
              "<table border=\"1\" class=\"dataframe\">\n",
              "  <thead>\n",
              "    <tr style=\"text-align: right;\">\n",
              "      <th></th>\n",
              "      <th>clv</th>\n",
              "      <th>Coverage</th>\n",
              "      <th>Gender</th>\n",
              "      <th>Income</th>\n",
              "      <th>Marital.Status</th>\n",
              "      <th>Monthly.Premium.Auto</th>\n",
              "      <th>Number.of.Open.Complaints</th>\n",
              "      <th>Number.of.Policies</th>\n",
              "      <th>Renew.Offer.Type</th>\n",
              "      <th>Total.Claim.Amount</th>\n",
              "      <th>Vehicle.Class</th>\n",
              "    </tr>\n",
              "  </thead>\n",
              "  <tbody>\n",
              "    <tr>\n",
              "      <th>0</th>\n",
              "      <td>2763.519279</td>\n",
              "      <td>Basic</td>\n",
              "      <td>F</td>\n",
              "      <td>56274</td>\n",
              "      <td>Married</td>\n",
              "      <td>69</td>\n",
              "      <td>0</td>\n",
              "      <td>1</td>\n",
              "      <td>Offer1</td>\n",
              "      <td>384.811147</td>\n",
              "      <td>Two-Door Car</td>\n",
              "    </tr>\n",
              "    <tr>\n",
              "      <th>1</th>\n",
              "      <td>6979.535903</td>\n",
              "      <td>Extended</td>\n",
              "      <td>F</td>\n",
              "      <td>0</td>\n",
              "      <td>Single</td>\n",
              "      <td>94</td>\n",
              "      <td>0</td>\n",
              "      <td>8</td>\n",
              "      <td>Offer3</td>\n",
              "      <td>1131.464935</td>\n",
              "      <td>Four-Door Car</td>\n",
              "    </tr>\n",
              "    <tr>\n",
              "      <th>2</th>\n",
              "      <td>12887.431650</td>\n",
              "      <td>Premium</td>\n",
              "      <td>F</td>\n",
              "      <td>48767</td>\n",
              "      <td>Married</td>\n",
              "      <td>108</td>\n",
              "      <td>0</td>\n",
              "      <td>2</td>\n",
              "      <td>Offer1</td>\n",
              "      <td>566.472247</td>\n",
              "      <td>Two-Door Car</td>\n",
              "    </tr>\n",
              "    <tr>\n",
              "      <th>3</th>\n",
              "      <td>7645.861827</td>\n",
              "      <td>Basic</td>\n",
              "      <td>M</td>\n",
              "      <td>0</td>\n",
              "      <td>Married</td>\n",
              "      <td>106</td>\n",
              "      <td>0</td>\n",
              "      <td>7</td>\n",
              "      <td>Offer1</td>\n",
              "      <td>529.881344</td>\n",
              "      <td>SUV</td>\n",
              "    </tr>\n",
              "    <tr>\n",
              "      <th>4</th>\n",
              "      <td>2813.692575</td>\n",
              "      <td>Basic</td>\n",
              "      <td>M</td>\n",
              "      <td>43836</td>\n",
              "      <td>Single</td>\n",
              "      <td>73</td>\n",
              "      <td>0</td>\n",
              "      <td>1</td>\n",
              "      <td>Offer1</td>\n",
              "      <td>138.130879</td>\n",
              "      <td>Four-Door Car</td>\n",
              "    </tr>\n",
              "  </tbody>\n",
              "</table>\n",
              "</div>"
            ],
            "text/plain": [
              "            clv  Coverage Gender  Income Marital.Status  Monthly.Premium.Auto  \\\n",
              "0   2763.519279     Basic      F   56274        Married                    69   \n",
              "1   6979.535903  Extended      F       0         Single                    94   \n",
              "2  12887.431650   Premium      F   48767        Married                   108   \n",
              "3   7645.861827     Basic      M       0        Married                   106   \n",
              "4   2813.692575     Basic      M   43836         Single                    73   \n",
              "\n",
              "   Number.of.Open.Complaints  Number.of.Policies Renew.Offer.Type  \\\n",
              "0                          0                   1           Offer1   \n",
              "1                          0                   8           Offer3   \n",
              "2                          0                   2           Offer1   \n",
              "3                          0                   7           Offer1   \n",
              "4                          0                   1           Offer1   \n",
              "\n",
              "   Total.Claim.Amount  Vehicle.Class  \n",
              "0          384.811147   Two-Door Car  \n",
              "1         1131.464935  Four-Door Car  \n",
              "2          566.472247   Two-Door Car  \n",
              "3          529.881344            SUV  \n",
              "4          138.130879  Four-Door Car  "
            ]
          },
          "execution_count": 2,
          "metadata": {},
          "output_type": "execute_result"
        }
      ],
      "source": [
        "#\n",
        "data_set = pd.read_csv(filepath_or_buffer='Vehicle_Insurance.csv')\n",
        "\n",
        "print('Shape of dataset: {}'.format(data_set.shape))\n",
        "\n",
        "print('First five rows:\\n')\n",
        "data_set.head(5)"
      ]
    },
    {
      "attachments": {},
      "cell_type": "markdown",
      "metadata": {
        "id": "T48PV8tIvQEF"
      },
      "source": [
        "### 1.2 Remove the rows with \"clv\" $> 16000$ as well as those with \"clv\" $< 2200$ from the dataset. What's the shape of the dataframe now?"
      ]
    },
    {
      "cell_type": "code",
      "execution_count": 3,
      "metadata": {
        "id": "uT1uSpcHvgC6"
      },
      "outputs": [
        {
          "name": "stdout",
          "output_type": "stream",
          "text": [
            "Shape of dataset: (8212, 11)\n"
          ]
        }
      ],
      "source": [
        "#\n",
        "data_set = data_set[np.logical_and(data_set['clv'] <= 16000, data_set['clv'] >= 2200)]\n",
        "data_set = data_set.reset_index(drop=True)\n",
        "\n",
        "print('Shape of dataset: {}'.format(data_set.shape))"
      ]
    },
    {
      "attachments": {},
      "cell_type": "markdown",
      "metadata": {
        "id": "t6h1-f7sxKJa"
      },
      "source": [
        "### 1.3 Using `preprocessing.OneHotEncoder()`, convert all categorical features. Make sure not to add collinear features during the encoding process. Then, display the first 3 rows."
      ]
    },
    {
      "cell_type": "code",
      "execution_count": 4,
      "metadata": {
        "colab": {
          "base_uri": "https://localhost:8080/"
        },
        "id": "roWX2SCqxCDW",
        "outputId": "8a38a574-3c73-4a40-82b7-9b1b32b0d209"
      },
      "outputs": [
        {
          "name": "stderr",
          "output_type": "stream",
          "text": [
            "/home/farhad-bat/.local/lib/python3.8/site-packages/sklearn/preprocessing/_encoders.py:868: FutureWarning: `sparse` was renamed to `sparse_output` in version 1.2 and will be removed in 1.4. `sparse_output` is ignored unless you leave `sparse` to its default value.\n",
            "  warnings.warn(\n"
          ]
        },
        {
          "data": {
            "text/html": [
              "<div>\n",
              "<style scoped>\n",
              "    .dataframe tbody tr th:only-of-type {\n",
              "        vertical-align: middle;\n",
              "    }\n",
              "\n",
              "    .dataframe tbody tr th {\n",
              "        vertical-align: top;\n",
              "    }\n",
              "\n",
              "    .dataframe thead th {\n",
              "        text-align: right;\n",
              "    }\n",
              "</style>\n",
              "<table border=\"1\" class=\"dataframe\">\n",
              "  <thead>\n",
              "    <tr style=\"text-align: right;\">\n",
              "      <th></th>\n",
              "      <th>clv</th>\n",
              "      <th>Income</th>\n",
              "      <th>Monthly.Premium.Auto</th>\n",
              "      <th>Number.of.Open.Complaints</th>\n",
              "      <th>Number.of.Policies</th>\n",
              "      <th>Total.Claim.Amount</th>\n",
              "      <th>Coverage_Extended</th>\n",
              "      <th>Coverage_Premium</th>\n",
              "      <th>Gender_M</th>\n",
              "      <th>Marital.Status_Married</th>\n",
              "      <th>Marital.Status_Single</th>\n",
              "      <th>Renew.Offer.Type_Offer2</th>\n",
              "      <th>Renew.Offer.Type_Offer3</th>\n",
              "      <th>Renew.Offer.Type_Offer4</th>\n",
              "      <th>Vehicle.Class_Luxury Car</th>\n",
              "      <th>Vehicle.Class_Luxury SUV</th>\n",
              "      <th>Vehicle.Class_SUV</th>\n",
              "      <th>Vehicle.Class_Sports Car</th>\n",
              "      <th>Vehicle.Class_Two-Door Car</th>\n",
              "    </tr>\n",
              "  </thead>\n",
              "  <tbody>\n",
              "    <tr>\n",
              "      <th>0</th>\n",
              "      <td>2763.519279</td>\n",
              "      <td>56274</td>\n",
              "      <td>69</td>\n",
              "      <td>0</td>\n",
              "      <td>1</td>\n",
              "      <td>384.811147</td>\n",
              "      <td>0.0</td>\n",
              "      <td>0.0</td>\n",
              "      <td>0.0</td>\n",
              "      <td>1.0</td>\n",
              "      <td>0.0</td>\n",
              "      <td>0.0</td>\n",
              "      <td>0.0</td>\n",
              "      <td>0.0</td>\n",
              "      <td>0.0</td>\n",
              "      <td>0.0</td>\n",
              "      <td>0.0</td>\n",
              "      <td>0.0</td>\n",
              "      <td>1.0</td>\n",
              "    </tr>\n",
              "    <tr>\n",
              "      <th>1</th>\n",
              "      <td>6979.535903</td>\n",
              "      <td>0</td>\n",
              "      <td>94</td>\n",
              "      <td>0</td>\n",
              "      <td>8</td>\n",
              "      <td>1131.464935</td>\n",
              "      <td>1.0</td>\n",
              "      <td>0.0</td>\n",
              "      <td>0.0</td>\n",
              "      <td>0.0</td>\n",
              "      <td>1.0</td>\n",
              "      <td>0.0</td>\n",
              "      <td>1.0</td>\n",
              "      <td>0.0</td>\n",
              "      <td>0.0</td>\n",
              "      <td>0.0</td>\n",
              "      <td>0.0</td>\n",
              "      <td>0.0</td>\n",
              "      <td>0.0</td>\n",
              "    </tr>\n",
              "    <tr>\n",
              "      <th>2</th>\n",
              "      <td>12887.431650</td>\n",
              "      <td>48767</td>\n",
              "      <td>108</td>\n",
              "      <td>0</td>\n",
              "      <td>2</td>\n",
              "      <td>566.472247</td>\n",
              "      <td>0.0</td>\n",
              "      <td>1.0</td>\n",
              "      <td>0.0</td>\n",
              "      <td>1.0</td>\n",
              "      <td>0.0</td>\n",
              "      <td>0.0</td>\n",
              "      <td>0.0</td>\n",
              "      <td>0.0</td>\n",
              "      <td>0.0</td>\n",
              "      <td>0.0</td>\n",
              "      <td>0.0</td>\n",
              "      <td>0.0</td>\n",
              "      <td>1.0</td>\n",
              "    </tr>\n",
              "  </tbody>\n",
              "</table>\n",
              "</div>"
            ],
            "text/plain": [
              "            clv  Income  Monthly.Premium.Auto  Number.of.Open.Complaints  \\\n",
              "0   2763.519279   56274                    69                          0   \n",
              "1   6979.535903       0                    94                          0   \n",
              "2  12887.431650   48767                   108                          0   \n",
              "\n",
              "   Number.of.Policies  Total.Claim.Amount  Coverage_Extended  \\\n",
              "0                   1          384.811147                0.0   \n",
              "1                   8         1131.464935                1.0   \n",
              "2                   2          566.472247                0.0   \n",
              "\n",
              "   Coverage_Premium  Gender_M  Marital.Status_Married  Marital.Status_Single  \\\n",
              "0               0.0       0.0                     1.0                    0.0   \n",
              "1               0.0       0.0                     0.0                    1.0   \n",
              "2               1.0       0.0                     1.0                    0.0   \n",
              "\n",
              "   Renew.Offer.Type_Offer2  Renew.Offer.Type_Offer3  Renew.Offer.Type_Offer4  \\\n",
              "0                      0.0                      0.0                      0.0   \n",
              "1                      0.0                      1.0                      0.0   \n",
              "2                      0.0                      0.0                      0.0   \n",
              "\n",
              "   Vehicle.Class_Luxury Car  Vehicle.Class_Luxury SUV  Vehicle.Class_SUV  \\\n",
              "0                       0.0                       0.0                0.0   \n",
              "1                       0.0                       0.0                0.0   \n",
              "2                       0.0                       0.0                0.0   \n",
              "\n",
              "   Vehicle.Class_Sports Car  Vehicle.Class_Two-Door Car  \n",
              "0                       0.0                         1.0  \n",
              "1                       0.0                         0.0  \n",
              "2                       0.0                         1.0  "
            ]
          },
          "execution_count": 4,
          "metadata": {},
          "output_type": "execute_result"
        }
      ],
      "source": [
        "# categorical columns\n",
        "categorical_columns = ['Coverage', 'Gender', 'Marital.Status', 'Renew.Offer.Type', 'Vehicle.Class']\n",
        "\n",
        "# One hot encoder with droping collinear features\n",
        "one_hot_encoder = preprocessing.OneHotEncoder(sparse=False, drop='first')\n",
        "one_hot_encoder.fit(data_set[categorical_columns])\n",
        "encoded_columns = one_hot_encoder.transform(data_set[categorical_columns])\n",
        "\n",
        "\n",
        "######################################################################\n",
        "######################################################################\n",
        "# THIS LINE MAY CAUSE PROBLEM DEPEND OF VERSION OF PANDA AND PYTHON\n",
        "######################################################################\n",
        "######################################################################\n",
        "# dataframe of encoded categorical columns\n",
        "encoded_columns_df = pd.DataFrame(encoded_columns, columns=one_hot_encoder.get_feature_names_out(categorical_columns))\n",
        "######################################################################\n",
        "######################################################################\n",
        "# In case of problem use this one:\n",
        "######################################################################\n",
        "######################################################################\n",
        "# encoded_columns_df = pd.DataFrame(encoded_columns, columns=one_hot_encoder.get_feature_names_out(categorical_columns))\n",
        "\n",
        "\n",
        "# delete categorical data from main dataset\n",
        "data_set.drop(columns=categorical_columns, inplace=True)\n",
        "\n",
        "# add encoded columns to dataset\n",
        "data_set = pd.concat([data_set, encoded_columns_df], axis=1)\n",
        "\n",
        "# show frist three row\n",
        "data_set.head(3)"
      ]
    },
    {
      "attachments": {},
      "cell_type": "markdown",
      "metadata": {
        "id": "noBsqu-y1lQU"
      },
      "source": [
        "### 1.4 Use `pandas.DataFrame.apply` to apply square root transformation to \"Total.Claim.Amount\" and log to the target variable. And then, create your `X` and `y`. (No training/test splitting yet) "
      ]
    },
    {
      "cell_type": "code",
      "execution_count": 5,
      "metadata": {},
      "outputs": [],
      "source": [
        "#\n",
        "\n",
        "# sqrt 'Total.Claim.Amount' column\n",
        "data_set['Total.Claim.Amount'] = data_set['Total.Claim.Amount'].apply(np.sqrt)\n",
        "\n",
        "# log target variable column\n",
        "data_set['clv'] = data_set['clv'].apply(np.log)\n",
        "\n",
        "# create X and y\n",
        "data_set_X = data_set.drop(columns=['clv'])\n",
        "data_set_y = data_set['clv'].to_numpy() "
      ]
    },
    {
      "attachments": {},
      "cell_type": "markdown",
      "metadata": {
        "id": "azwMuwal3eL_"
      },
      "source": [
        "### 1.5 Build a new design matrix by applying polynomial expansion on the `X` from Question 1.4. Hint: Specify degree=2 and do NOT include the column with power 0 (i.e., the column with all elements being 1)"
      ]
    },
    {
      "cell_type": "code",
      "execution_count": 6,
      "metadata": {
        "id": "dSoq2jdp3dI-"
      },
      "outputs": [],
      "source": [
        "# polynomial expansion\n",
        "data_set_X_polynomial = preprocessing.PolynomialFeatures(degree=2, include_bias=False).fit_transform(data_set_X)"
      ]
    },
    {
      "attachments": {},
      "cell_type": "markdown",
      "metadata": {
        "id": "qIOYW9ue7nab"
      },
      "source": [
        "### 1.6 Standardize your design matrix (from Question 1.5) with `StandardScaler()`, and store the result into a Pandas dataFrame."
      ]
    },
    {
      "cell_type": "code",
      "execution_count": 7,
      "metadata": {
        "id": "_qfJ-MfR9pLe"
      },
      "outputs": [],
      "source": [
        "# Standardize data\n",
        "scaler = StandardScaler(with_mean=True, with_std=True)\n",
        "data_set_X_polynomial_scaled = scaler.fit_transform(data_set_X_polynomial)\n",
        "\n",
        "data_set_X_polynomial_scaled = pd.DataFrame(data_set_X_polynomial_scaled)"
      ]
    },
    {
      "attachments": {},
      "cell_type": "markdown",
      "metadata": {
        "id": "R0Llj1HB4I_f"
      },
      "source": [
        "### 1.7 What is the shape of the resultant DataFrame obtained from question 1.6?"
      ]
    },
    {
      "cell_type": "code",
      "execution_count": 8,
      "metadata": {},
      "outputs": [
        {
          "name": "stdout",
          "output_type": "stream",
          "text": [
            "Shape of expanded and standardize data:\n",
            "(8212, 189)\n"
          ]
        }
      ],
      "source": [
        "#\n",
        "print('Shape of expanded and standardize data:')\n",
        "print(data_set_X_polynomial_scaled.shape)"
      ]
    },
    {
      "attachments": {},
      "cell_type": "markdown",
      "metadata": {
        "id": "WT-POfziGnpm"
      },
      "source": [
        "## Question 2: /7 pts\n",
        "\n",
        "Split the data into training and test sets. Hold out 30% of observations as the test set.  Pass `random_state=seed` to `train_test_split` to ensure you get the same sets per run. The design matrix to pass in to the splitter function is the dataframe whcih you got in Question 1.6. As for the target, you have created it in Question 1.4."
      ]
    },
    {
      "cell_type": "code",
      "execution_count": 9,
      "metadata": {
        "id": "0nA70uSCJMiO"
      },
      "outputs": [
        {
          "name": "stdout",
          "output_type": "stream",
          "text": [
            "Train X shape: (5748, 189)\n",
            "Train y shape: (5748,)\n",
            "Test X shape: (2464, 189)\n",
            "Test y shape: (2464,)\n",
            "Average of training target variable: 8.62\n"
          ]
        }
      ],
      "source": [
        "#\n",
        "X_train, X_test, y_train, y_test = train_test_split(data_set_X_polynomial_scaled, data_set_y, test_size=0.3, random_state=seed)\n",
        "\n",
        "print('Train X shape: {}'.format(X_train.shape))\n",
        "print('Train y shape: {}'.format(y_train.shape))\n",
        "print('Test X shape: {}'.format(X_test.shape))\n",
        "print('Test y shape: {}'.format(y_test.shape))\n",
        "\n",
        "print('Average of training target variable: {:.2f}'.format(y_train.mean()))"
      ]
    },
    {
      "cell_type": "markdown",
      "metadata": {
        "id": "2LN9bLXV5H3Q"
      },
      "source": [
        "How many observations in your traning data set? What is the average value of the target variable in the traning data set (keep 2 decimal place)?"
      ]
    },
    {
      "attachments": {},
      "cell_type": "markdown",
      "metadata": {
        "id": "hhxxdCrA59Ur"
      },
      "source": [
        "**YOUR ANSWER HERE:** [2pts]\n",
        "\n",
        "5748 observation in training set.\n",
        "Average of training target variable: 8.62\n"
      ]
    },
    {
      "cell_type": "markdown",
      "metadata": {
        "id": "JSROy1U56I8Y"
      },
      "source": [
        "## Question 3: /23 pts"
      ]
    },
    {
      "attachments": {},
      "cell_type": "markdown",
      "metadata": {
        "id": "HnTESpfO8g2_"
      },
      "source": [
        "### 3.1 Create a SciKit Learn `Ridge` regression object. Using this object, run a ridge regression analysis of the target variable against all the transformed predictor variables using your training data. Include the arguement `alpha=4.0`. In addition, the ridge regression should be fitted with the intercept."
      ]
    },
    {
      "cell_type": "code",
      "execution_count": 10,
      "metadata": {
        "id": "KNbYd9YM5QO3"
      },
      "outputs": [
        {
          "data": {
            "text/html": [
              "<style>#sk-container-id-1 {color: black;background-color: white;}#sk-container-id-1 pre{padding: 0;}#sk-container-id-1 div.sk-toggleable {background-color: white;}#sk-container-id-1 label.sk-toggleable__label {cursor: pointer;display: block;width: 100%;margin-bottom: 0;padding: 0.3em;box-sizing: border-box;text-align: center;}#sk-container-id-1 label.sk-toggleable__label-arrow:before {content: \"▸\";float: left;margin-right: 0.25em;color: #696969;}#sk-container-id-1 label.sk-toggleable__label-arrow:hover:before {color: black;}#sk-container-id-1 div.sk-estimator:hover label.sk-toggleable__label-arrow:before {color: black;}#sk-container-id-1 div.sk-toggleable__content {max-height: 0;max-width: 0;overflow: hidden;text-align: left;background-color: #f0f8ff;}#sk-container-id-1 div.sk-toggleable__content pre {margin: 0.2em;color: black;border-radius: 0.25em;background-color: #f0f8ff;}#sk-container-id-1 input.sk-toggleable__control:checked~div.sk-toggleable__content {max-height: 200px;max-width: 100%;overflow: auto;}#sk-container-id-1 input.sk-toggleable__control:checked~label.sk-toggleable__label-arrow:before {content: \"▾\";}#sk-container-id-1 div.sk-estimator input.sk-toggleable__control:checked~label.sk-toggleable__label {background-color: #d4ebff;}#sk-container-id-1 div.sk-label input.sk-toggleable__control:checked~label.sk-toggleable__label {background-color: #d4ebff;}#sk-container-id-1 input.sk-hidden--visually {border: 0;clip: rect(1px 1px 1px 1px);clip: rect(1px, 1px, 1px, 1px);height: 1px;margin: -1px;overflow: hidden;padding: 0;position: absolute;width: 1px;}#sk-container-id-1 div.sk-estimator {font-family: monospace;background-color: #f0f8ff;border: 1px dotted black;border-radius: 0.25em;box-sizing: border-box;margin-bottom: 0.5em;}#sk-container-id-1 div.sk-estimator:hover {background-color: #d4ebff;}#sk-container-id-1 div.sk-parallel-item::after {content: \"\";width: 100%;border-bottom: 1px solid gray;flex-grow: 1;}#sk-container-id-1 div.sk-label:hover label.sk-toggleable__label {background-color: #d4ebff;}#sk-container-id-1 div.sk-serial::before {content: \"\";position: absolute;border-left: 1px solid gray;box-sizing: border-box;top: 0;bottom: 0;left: 50%;z-index: 0;}#sk-container-id-1 div.sk-serial {display: flex;flex-direction: column;align-items: center;background-color: white;padding-right: 0.2em;padding-left: 0.2em;position: relative;}#sk-container-id-1 div.sk-item {position: relative;z-index: 1;}#sk-container-id-1 div.sk-parallel {display: flex;align-items: stretch;justify-content: center;background-color: white;position: relative;}#sk-container-id-1 div.sk-item::before, #sk-container-id-1 div.sk-parallel-item::before {content: \"\";position: absolute;border-left: 1px solid gray;box-sizing: border-box;top: 0;bottom: 0;left: 50%;z-index: -1;}#sk-container-id-1 div.sk-parallel-item {display: flex;flex-direction: column;z-index: 1;position: relative;background-color: white;}#sk-container-id-1 div.sk-parallel-item:first-child::after {align-self: flex-end;width: 50%;}#sk-container-id-1 div.sk-parallel-item:last-child::after {align-self: flex-start;width: 50%;}#sk-container-id-1 div.sk-parallel-item:only-child::after {width: 0;}#sk-container-id-1 div.sk-dashed-wrapped {border: 1px dashed gray;margin: 0 0.4em 0.5em 0.4em;box-sizing: border-box;padding-bottom: 0.4em;background-color: white;}#sk-container-id-1 div.sk-label label {font-family: monospace;font-weight: bold;display: inline-block;line-height: 1.2em;}#sk-container-id-1 div.sk-label-container {text-align: center;}#sk-container-id-1 div.sk-container {/* jupyter's `normalize.less` sets `[hidden] { display: none; }` but bootstrap.min.css set `[hidden] { display: none !important; }` so we also need the `!important` here to be able to override the default hidden behavior on the sphinx rendered scikit-learn.org. See: https://github.com/scikit-learn/scikit-learn/issues/21755 */display: inline-block !important;position: relative;}#sk-container-id-1 div.sk-text-repr-fallback {display: none;}</style><div id=\"sk-container-id-1\" class=\"sk-top-container\"><div class=\"sk-text-repr-fallback\"><pre>Ridge(alpha=4.0)</pre><b>In a Jupyter environment, please rerun this cell to show the HTML representation or trust the notebook. <br />On GitHub, the HTML representation is unable to render, please try loading this page with nbviewer.org.</b></div><div class=\"sk-container\" hidden><div class=\"sk-item\"><div class=\"sk-estimator sk-toggleable\"><input class=\"sk-toggleable__control sk-hidden--visually\" id=\"sk-estimator-id-1\" type=\"checkbox\" checked><label for=\"sk-estimator-id-1\" class=\"sk-toggleable__label sk-toggleable__label-arrow\">Ridge</label><div class=\"sk-toggleable__content\"><pre>Ridge(alpha=4.0)</pre></div></div></div></div></div>"
            ],
            "text/plain": [
              "Ridge(alpha=4.0)"
            ]
          },
          "execution_count": 10,
          "metadata": {},
          "output_type": "execute_result"
        }
      ],
      "source": [
        "# create Ridge regression\n",
        "regression_ridge = Ridge(alpha=4.0, fit_intercept=True)\n",
        "\n",
        "# fit on train data\n",
        "regression_ridge.fit(X=X_train, y=y_train)"
      ]
    },
    {
      "attachments": {},
      "cell_type": "markdown",
      "metadata": {
        "id": "TiPa777vIESf"
      },
      "source": [
        "### 3.2 Vary the ridge coeficient `alpha` according to the hint. Use `cross_val_score()` to select the best `alpha` based on 'mean_squared_error'. Include the argument `cv=5`. Report the `alpha` that yields the smallest mean_squared_error.   "
      ]
    },
    {
      "cell_type": "code",
      "execution_count": 11,
      "metadata": {
        "id": "FqbRiqdBICnW"
      },
      "outputs": [
        {
          "name": "stdout",
          "output_type": "stream",
          "text": [
            "Best alpha: 1.559623497606781\n"
          ]
        }
      ],
      "source": [
        "# hint: lam = np.exp(np.linspace(-4,1,10))\n",
        "\n",
        "# candidate alpha\n",
        "candidate_alphas = np.exp(np.linspace(-4,1,10))\n",
        "mse_errors = np.zeros(shape=(len(candidate_alphas)))\n",
        "\n",
        "# for each alpha calculate mse with cross validation \n",
        "for i_idx, alpha_i in enumerate(candidate_alphas):\n",
        "    cv_scores = cross_val_score(estimator=Ridge(alpha=alpha_i, fit_intercept=True), X=X_train, y=y_train, cv=5, scoring='neg_mean_squared_error')\n",
        "    mse_errors[i_idx] = -np.mean(cv_scores)\n",
        "\n",
        "best_alpha = candidate_alphas[mse_errors.argmin()]\n",
        "print('Best alpha: {}'.format(best_alpha))"
      ]
    },
    {
      "attachments": {},
      "cell_type": "markdown",
      "metadata": {
        "id": "6sDLY0ZoD2gl"
      },
      "source": [
        "### 3.3 Re-fit the ridge regression with `alpha` being the value obtained in the previous question. `Print` the first 3 parameters of your model."
      ]
    },
    {
      "cell_type": "code",
      "execution_count": 12,
      "metadata": {
        "colab": {
          "base_uri": "https://localhost:8080/"
        },
        "id": "SdW6-rRKDs0H",
        "outputId": "172f9736-466a-4ef2-839a-984c2cee3165"
      },
      "outputs": [
        {
          "name": "stdout",
          "output_type": "stream",
          "text": [
            "First 3 Coefficient: [0.02839762 0.33081133 0.02778567]\n",
            "Mean of all coeficients: 0.0010315500561541115\n"
          ]
        }
      ],
      "source": [
        "#\n",
        "# create Ridge regression with best alpha\n",
        "regression_ridge = Ridge(alpha=best_alpha, fit_intercept=True)\n",
        "\n",
        "# fit on train data\n",
        "regression_ridge.fit(X=X_train, y=y_train)\n",
        "regression_3_3_ridge = copy.deepcopy(regression_ridge)\n",
        "\n",
        "print('First 3 Coefficient: {}'.format(regression_ridge.coef_[0:3]))\n",
        "print('Mean of all coeficients: {}'.format(regression_ridge.coef_.mean()))"
      ]
    },
    {
      "attachments": {},
      "cell_type": "markdown",
      "metadata": {
        "id": "0Tkm7rYwZhav"
      },
      "source": [
        "### 3.4 Fit the linear regression without any penalty, and the regression should be fitted with the intercept. `Print` the first 3 parameters of your model."
      ]
    },
    {
      "cell_type": "code",
      "execution_count": 13,
      "metadata": {
        "colab": {
          "base_uri": "https://localhost:8080/"
        },
        "id": "gqo8keT9Z-oz",
        "outputId": "db28a583-b96a-49bb-aa6e-2de5e34f34a2"
      },
      "outputs": [
        {
          "name": "stdout",
          "output_type": "stream",
          "text": [
            "First 3 Coefficient: [0.01836491 0.25648438 0.03074957]\n",
            "Mean of all coeficients: -16291937.81846433\n"
          ]
        }
      ],
      "source": [
        "# linear regression without penalty\n",
        "regression_lr = LinearRegression(fit_intercept=True)\n",
        "\n",
        "# fit on train data\n",
        "regression_lr.fit(X=X_train, y=y_train)\n",
        "regression_3_5_no_penalty = copy.deepcopy(regression_lr)\n",
        "\n",
        "print('First 3 Coefficient: {}'.format(regression_lr.coef_[0:3]))\n",
        "print('Mean of all coeficients: {}'.format(regression_lr.coef_.mean()))"
      ]
    },
    {
      "cell_type": "markdown",
      "metadata": {
        "id": "sm7Gr6eXaqzP"
      },
      "source": [
        "Comparing the parameters that you obtain in questions 3.3 and 3.4, what do you find?"
      ]
    },
    {
      "attachments": {},
      "cell_type": "markdown",
      "metadata": {
        "id": "3dWojdSQbD1n"
      },
      "source": [
        "**YOUR ANSWER HERE:** [2pts]\n",
        "First three parameters do not give us a good view of what happening. In Ridge the first two parameters are bigger and the the third is smaller than linear regression without penalty. However the mean value of for all parameters for Ridge Regression is 0.00103 and the mean value for all values in linear regression without penalty is 3854264.58. It shows the regulariztion kept parameters very small. "
      ]
    },
    {
      "attachments": {},
      "cell_type": "markdown",
      "metadata": {
        "id": "tWgD5DCS4abp"
      },
      "source": [
        "### 3.5 Use your trained model from Question 3.4 to predict over the test set and `print` the first 5 prediction values."
      ]
    },
    {
      "cell_type": "code",
      "execution_count": 14,
      "metadata": {
        "colab": {
          "base_uri": "https://localhost:8080/"
        },
        "id": "jZ2kmfb74usy",
        "outputId": "cb16ef2e-0711-4118-b01d-ff236d8b46d7"
      },
      "outputs": [
        {
          "name": "stdout",
          "output_type": "stream",
          "text": [
            "Five first prediction values:\n",
            "[9.23955721 8.31928247 8.89563745 8.08209985 8.44695467]\n"
          ]
        }
      ],
      "source": [
        "# predict over test set with linear regression without penalty\n",
        "y_test_pred = regression_lr.predict(X_test)\n",
        "\n",
        "print('Five first prediction values:')\n",
        "print(y_test_pred[0:5])"
      ]
    },
    {
      "cell_type": "markdown",
      "metadata": {
        "id": "rbzjtW76e1pD"
      },
      "source": [
        "## Question 4: /25 pts"
      ]
    },
    {
      "attachments": {},
      "cell_type": "markdown",
      "metadata": {
        "id": "fVzCvbKUgQUr"
      },
      "source": [
        "### 4.1 Consider to fit a Lasso regression to the train dataset. Use `lasso_path()` to show the full path of the first 20 coefficients of the Lasso regression. Include the arguement `eps=8e-3` and `n_alphas=50`."
      ]
    },
    {
      "cell_type": "code",
      "execution_count": 15,
      "metadata": {
        "colab": {
          "base_uri": "https://localhost:8080/",
          "height": 279
        },
        "id": "-yYkOTzFe1DT",
        "outputId": "66646ec6-41ed-4e49-954c-733d9716f4d1"
      },
      "outputs": [
        {
          "data": {
            "image/png": "[encoded data removed]",
            "text/plain": [
              "<Figure size 640x480 with 1 Axes>"
            ]
          },
          "metadata": {},
          "output_type": "display_data"
        }
      ],
      "source": [
        "# Draw a plot to show the path. Legend is not required in the plot.\n",
        "lambda_lasso, coefs_lasso, _ = lasso_path(X=X_train, y=y_train, eps=8e-3, n_alphas=50, alphas=None)\n",
        "\n",
        "for i in range(20):\n",
        "    plt.plot(-np.log(lambda_lasso), coefs_lasso[i,])\n",
        "\n",
        "plt.xlabel('Neg. Log. Alpha')\n",
        "plt.ylabel('Coef.')\n",
        "plt.show()"
      ]
    },
    {
      "cell_type": "markdown",
      "metadata": {
        "id": "CS-5Wbsfh7UL"
      },
      "source": [
        "Describe the trend that shows in your figure."
      ]
    },
    {
      "attachments": {},
      "cell_type": "markdown",
      "metadata": {
        "id": "aOig7gYBiFJ0"
      },
      "source": [
        "**YOUR ANSWER HERE:** [3pts] By increasing alpha the absulute value of coeficients become smaller and smaller. By increasing alpha the values become very close to zero and lots of them become zero."
      ]
    },
    {
      "attachments": {},
      "cell_type": "markdown",
      "metadata": {
        "id": "8VqmO6vyjGtm"
      },
      "source": [
        "### 4.2 Use the Scikit Learn's cross-validated LASSO to automatically search for the best tuning parameter of the LASSO regression on the training set with intercept. Include arguments `eps=8e-3`, `n_alphas=30`, `tol=0.001`, `cv=5`, and `random_state=seed`. Report the best tuning parameter and the number of the non-zero coefficients in the model."
      ]
    },
    {
      "cell_type": "code",
      "execution_count": 16,
      "metadata": {
        "id": "XcgZDP9kjNHP"
      },
      "outputs": [
        {
          "name": "stdout",
          "output_type": "stream",
          "text": [
            "Best Alpha: 0.0019347932826026507\n",
            "Number of non-zero coeficients: 92\n"
          ]
        }
      ],
      "source": [
        "# search for good lasso model\n",
        "lasso_regression = LassoCV(eps=8e-3, n_alphas=30, tol=0.001, cv=5, random_state=seed, n_jobs=4, fit_intercept=True)\n",
        "lasso_regression.fit(X=X_train, y=y_train)\n",
        "regression_4_2_lasso = copy.deepcopy(lasso_regression)\n",
        "\n",
        "print('Best Alpha: {}'.format(lasso_regression.alpha_))\n",
        "print('Number of non-zero coeficients: {}'.format(np.sum(lasso_regression.coef_ != 0)))"
      ]
    },
    {
      "attachments": {},
      "cell_type": "markdown",
      "metadata": {
        "id": "Czdd73jll-QW"
      },
      "source": [
        "### 4.3 Use the Scikit Learn's cross-validated ElasticNet to automatically search for the best tuning parameters of the Elasticnet regression with intercept on the training data set. Include the same argument as question 4.2 as well as `l1_ratio=[.7, .9, .95, .99,1]`. Report the best tuning parameters."
      ]
    },
    {
      "cell_type": "code",
      "execution_count": 17,
      "metadata": {
        "colab": {
          "base_uri": "https://localhost:8080/"
        },
        "id": "fPJuGnkjmcE6",
        "outputId": "83e36fdf-cddc-48b0-e747-8b432644a7bd"
      },
      "outputs": [
        {
          "name": "stdout",
          "output_type": "stream",
          "text": [
            "Best Alpha: 0.0019347932826026507\n",
            "Best L1 Ratio: 1.0\n"
          ]
        }
      ],
      "source": [
        "# search for good ElasticNet\n",
        "elastic_regression = ElasticNetCV(l1_ratio=[0.7, 0.9, 0.95, 0.99, 1.0], eps=8e-3, n_alphas=30, tol=0.001, cv=5, random_state=seed, n_jobs=4, fit_intercept=True)\n",
        "\n",
        "# train model\n",
        "elastic_regression.fit(X=X_train, y=y_train)\n",
        "regression_4_3_elastic = copy.deepcopy(elastic_regression)\n",
        "\n",
        "print('Best Alpha: {}'.format(elastic_regression.alpha_))\n",
        "print('Best L1 Ratio: {}'.format(elastic_regression.l1_ratio_))"
      ]
    },
    {
      "cell_type": "markdown",
      "metadata": {
        "id": "yQLwlTQznvfs"
      },
      "source": [
        "From the obtained tuning parameters, is the Elasticnet regression model equivalent to the Lasso regression? Briefly describe the reason. "
      ]
    },
    {
      "attachments": {},
      "cell_type": "markdown",
      "metadata": {
        "id": "imEmw4pdozsc"
      },
      "source": [
        "**YOUR ANSWER HERE:** [3pts]\n",
        "In this case the obtained ElasticNet and Lasso regression models are the same. Because L1 Ratio for the ElasticNet is equal to 1 which means L2 regulatization will become zero. \n",
        "\n",
        "..."
      ]
    },
    {
      "cell_type": "markdown",
      "metadata": {
        "id": "mA8w-HPJ93h6"
      },
      "source": [
        "## Question 5: /16 pts"
      ]
    },
    {
      "attachments": {},
      "cell_type": "markdown",
      "metadata": {
        "id": "xGaiH_Y49_Nl"
      },
      "source": [
        "### 5.1 Start from the regression model in question 3.4, use `SequentialFeatureSelector()` to conduct the forward selection for the features of the regression model. Include the argument `n_features_to_select=20`. Report the indices of the selected features. \n",
        "\n",
        "FYI: Running this using 8 physical cores took about 1 minute for me."
      ]
    },
    {
      "cell_type": "code",
      "execution_count": 18,
      "metadata": {
        "id": "jxGV90gx6nDm"
      },
      "outputs": [
        {
          "name": "stdout",
          "output_type": "stream",
          "text": [
            "Selected Features Indeces:\n",
            "[  1   3  18  19  20  28  36  38  55  59  69  75 104 117 118 119 126 131\n",
            " 143 168]\n"
          ]
        }
      ],
      "source": [
        "# Feature selection\n",
        "forward_feature_selector = SequentialFeatureSelector(estimator=regression_lr, n_features_to_select=20, direction='forward', scoring='neg_mean_squared_error', n_jobs=4)\n",
        "forward_feature_selector.fit(X_train, y_train)\n",
        "\n",
        "# indices for the selected features\n",
        "print('Selected Features Indeces:')\n",
        "print(forward_feature_selector.get_support(indices=True))"
      ]
    },
    {
      "cell_type": "markdown",
      "metadata": {
        "id": "QNFD6RQJ_8m3"
      },
      "source": [
        "What do you need to change about the argument in your model if you want to conduct a backward selection?"
      ]
    },
    {
      "attachments": {},
      "cell_type": "markdown",
      "metadata": {
        "id": "8pawMkg5-3j9"
      },
      "source": [
        "**YOUR ANSWER HERE:** [2pts] I need to change direction argument to backward."
      ]
    },
    {
      "attachments": {},
      "cell_type": "markdown",
      "metadata": {
        "id": "CBLcnkP71SbP"
      },
      "source": [
        "### 5.2 Re-fit the regular linear regression based on the traning set by using the selected features from the question 5.1. Report the first 3 parameters of your model as indicated with the print function."
      ]
    },
    {
      "cell_type": "code",
      "execution_count": 19,
      "metadata": {
        "id": "k8gVaU4mA6Zw"
      },
      "outputs": [
        {
          "name": "stdout",
          "output_type": "stream",
          "text": [
            "First 3 Coefficient: [ 0.48181157  1.07122953 -0.0273511 ]\n"
          ]
        }
      ],
      "source": [
        "# Separate selected features\n",
        "X_train_selected_features = forward_feature_selector.transform(X_train)\n",
        "X_test_selected_features = forward_feature_selector.transform(X_test)\n",
        "\n",
        "# fit on train data\n",
        "regression_lr.fit(X=X_train_selected_features, y=y_train)\n",
        "\n",
        "regression_5_2_selected = copy.deepcopy(regression_lr)\n",
        "\n",
        "print('First 3 Coefficient: {}'.format(regression_lr.coef_[0:3]))"
      ]
    },
    {
      "cell_type": "markdown",
      "metadata": {
        "id": "ETqQ_ZMy2oyB"
      },
      "source": [
        "## Question 6: /9 pts"
      ]
    },
    {
      "attachments": {},
      "cell_type": "markdown",
      "metadata": {
        "id": "3V9n4qj68cQn"
      },
      "source": [
        "### 6.1 Make predictions on the test set using your models in questions 3.3, 4.2, 4.3, and 5.2, respectively. Together with the predicted values obtained in question 3.5, report the first 5 rows of predicted values obtained from different models in a single DataFrame."
      ]
    },
    {
      "cell_type": "code",
      "execution_count": 20,
      "metadata": {
        "colab": {
          "base_uri": "https://localhost:8080/",
          "height": 206
        },
        "id": "bcjWPGH82stF",
        "outputId": "1e7bdb5a-62e0-4d5a-b7a7-8846cc06a3c5"
      },
      "outputs": [
        {
          "data": {
            "text/html": [
              "<div>\n",
              "<style scoped>\n",
              "    .dataframe tbody tr th:only-of-type {\n",
              "        vertical-align: middle;\n",
              "    }\n",
              "\n",
              "    .dataframe tbody tr th {\n",
              "        vertical-align: top;\n",
              "    }\n",
              "\n",
              "    .dataframe thead th {\n",
              "        text-align: right;\n",
              "    }\n",
              "</style>\n",
              "<table border=\"1\" class=\"dataframe\">\n",
              "  <thead>\n",
              "    <tr style=\"text-align: right;\">\n",
              "      <th></th>\n",
              "      <th>(3-3)</th>\n",
              "      <th>(3-5)</th>\n",
              "      <th>(4-2)</th>\n",
              "      <th>(4-3)</th>\n",
              "      <th>(5-2)</th>\n",
              "    </tr>\n",
              "  </thead>\n",
              "  <tbody>\n",
              "    <tr>\n",
              "      <th>0</th>\n",
              "      <td>9.244224</td>\n",
              "      <td>9.239557</td>\n",
              "      <td>9.142903</td>\n",
              "      <td>9.142903</td>\n",
              "      <td>9.197035</td>\n",
              "    </tr>\n",
              "    <tr>\n",
              "      <th>1</th>\n",
              "      <td>8.317220</td>\n",
              "      <td>8.319282</td>\n",
              "      <td>8.303288</td>\n",
              "      <td>8.303288</td>\n",
              "      <td>8.300987</td>\n",
              "    </tr>\n",
              "    <tr>\n",
              "      <th>2</th>\n",
              "      <td>8.894495</td>\n",
              "      <td>8.895637</td>\n",
              "      <td>8.859596</td>\n",
              "      <td>8.859596</td>\n",
              "      <td>8.910826</td>\n",
              "    </tr>\n",
              "    <tr>\n",
              "      <th>3</th>\n",
              "      <td>8.083858</td>\n",
              "      <td>8.082100</td>\n",
              "      <td>8.085032</td>\n",
              "      <td>8.085032</td>\n",
              "      <td>8.025311</td>\n",
              "    </tr>\n",
              "    <tr>\n",
              "      <th>4</th>\n",
              "      <td>8.433497</td>\n",
              "      <td>8.446955</td>\n",
              "      <td>8.416404</td>\n",
              "      <td>8.416404</td>\n",
              "      <td>8.445480</td>\n",
              "    </tr>\n",
              "  </tbody>\n",
              "</table>\n",
              "</div>"
            ],
            "text/plain": [
              "      (3-3)     (3-5)     (4-2)     (4-3)     (5-2)\n",
              "0  9.244224  9.239557  9.142903  9.142903  9.197035\n",
              "1  8.317220  8.319282  8.303288  8.303288  8.300987\n",
              "2  8.894495  8.895637  8.859596  8.859596  8.910826\n",
              "3  8.083858  8.082100  8.085032  8.085032  8.025311\n",
              "4  8.433497  8.446955  8.416404  8.416404  8.445480"
            ]
          },
          "execution_count": 20,
          "metadata": {},
          "output_type": "execute_result"
        }
      ],
      "source": [
        "#\n",
        "df_pred_test_models = pd.DataFrame()\n",
        "\n",
        "# predict on test set with different models\n",
        "df_pred_test_models['(3-3)'] = regression_3_3_ridge.predict(X_test)\n",
        "df_pred_test_models['(3-5)'] = regression_3_5_no_penalty.predict(X_test)\n",
        "df_pred_test_models['(4-2)'] = regression_4_2_lasso.predict(X_test)\n",
        "df_pred_test_models['(4-3)'] = regression_4_3_elastic.predict(X_test)\n",
        "df_pred_test_models['(5-2)'] = regression_5_2_selected.predict(X_test_selected_features)\n",
        "\n",
        "# show 5 rows of predictions\n",
        "df_pred_test_models.head(5)"
      ]
    },
    {
      "attachments": {},
      "cell_type": "markdown",
      "metadata": {
        "id": "jyZgAOlNAKxs"
      },
      "source": [
        "### 6.2 Use `mean_squared_error()` to assess the performance of different models based on all the predicted values mentioned in Question 6.1.  "
      ]
    },
    {
      "cell_type": "code",
      "execution_count": 21,
      "metadata": {
        "colab": {
          "base_uri": "https://localhost:8080/"
        },
        "id": "BnDTK5XG6k08",
        "outputId": "d1b6471e-4890-490e-9611-210ceef598e1"
      },
      "outputs": [
        {
          "data": {
            "text/html": [
              "<div>\n",
              "<style scoped>\n",
              "    .dataframe tbody tr th:only-of-type {\n",
              "        vertical-align: middle;\n",
              "    }\n",
              "\n",
              "    .dataframe tbody tr th {\n",
              "        vertical-align: top;\n",
              "    }\n",
              "\n",
              "    .dataframe thead th {\n",
              "        text-align: right;\n",
              "    }\n",
              "</style>\n",
              "<table border=\"1\" class=\"dataframe\">\n",
              "  <thead>\n",
              "    <tr style=\"text-align: right;\">\n",
              "      <th></th>\n",
              "      <th>(3-3)</th>\n",
              "      <th>(3-5)</th>\n",
              "      <th>(4-2)</th>\n",
              "      <th>(4-3)</th>\n",
              "      <th>(5-2)</th>\n",
              "    </tr>\n",
              "  </thead>\n",
              "  <tbody>\n",
              "    <tr>\n",
              "      <th>0</th>\n",
              "      <td>0.11015</td>\n",
              "      <td>0.110613</td>\n",
              "      <td>0.109926</td>\n",
              "      <td>0.109926</td>\n",
              "      <td>0.11077</td>\n",
              "    </tr>\n",
              "  </tbody>\n",
              "</table>\n",
              "</div>"
            ],
            "text/plain": [
              "     (3-3)     (3-5)     (4-2)     (4-3)    (5-2)\n",
              "0  0.11015  0.110613  0.109926  0.109926  0.11077"
            ]
          },
          "execution_count": 21,
          "metadata": {},
          "output_type": "execute_result"
        }
      ],
      "source": [
        "#\n",
        "\n",
        "df_mse_error = pd.DataFrame()\n",
        "\n",
        "for col_i in df_pred_test_models.columns:\n",
        "    df_mse_error[col_i] = [mean_squared_error(y_true=y_test, y_pred=df_pred_test_models[col_i])]\n",
        "\n",
        "df_mse_error.head()"
      ]
    },
    {
      "cell_type": "markdown",
      "metadata": {
        "id": "C29Tjgo6A-eH"
      },
      "source": [
        "Which model yields the smallest mean squared error on the test dataset?"
      ]
    },
    {
      "attachments": {},
      "cell_type": "markdown",
      "metadata": {
        "id": "rOXIpNBmBcay"
      },
      "source": [
        "**YOUR ANSWER HERE:** [2pts] ElasticNet and Lasso"
      ]
    }
  ],
  "metadata": {
    "colab": {
      "provenance": []
    },
    "kernelspec": {
      "display_name": "Python 3",
      "language": "python",
      "name": "python3"
    },
    "language_info": {
      "codemirror_mode": {
        "name": "ipython",
        "version": 3
      },
      "file_extension": ".py",
      "mimetype": "text/x-python",
      "name": "python",
      "nbconvert_exporter": "python",
      "pygments_lexer": "ipython3",
      "version": "3.8.16"
    },
    "vscode": {
      "interpreter": {
        "hash": "31f2aee4e71d21fbe5cf8b01ff0e069b9275f58929596ceb00d14d90e3e16cd6"
      }
    }
  },
  "nbformat": 4,
  "nbformat_minor": 0
}
